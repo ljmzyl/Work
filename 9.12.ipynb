{
 "cells": [
  {
   "cell_type": "markdown",
   "metadata": {},
   "source": [
    "# 选择\n",
    "## 布尔类型、数值和表达式\n",
    "![](../Photo/33.png)\n",
    "- 注意：比较运算符的相等是两个等到，一个等到代表赋值\n",
    "- 在Python中可以用整型0来代表False，其他数字来代表True\n",
    "- 后面还会讲到 is 在判断语句中的用发"
   ]
  },
  {
   "cell_type": "code",
   "execution_count": null,
   "metadata": {},
   "outputs": [],
   "source": [
    "1== true"
   ]
  },
  {
   "cell_type": "code",
   "execution_count": null,
   "metadata": {},
   "outputs": [],
   "source": [
    "while 1:\n",
    "    print('hahaha')"
   ]
  },
  {
   "cell_type": "markdown",
   "metadata": {},
   "source": [
    "## 字符串的比较使用ASCII值"
   ]
  },
  {
   "cell_type": "code",
   "execution_count": null,
   "metadata": {},
   "outputs": [],
   "source": [
    "'a'>True"
   ]
  },
  {
   "cell_type": "code",
   "execution_count": 1,
   "metadata": {},
   "outputs": [
    {
     "data": {
      "text/plain": [
       "False"
      ]
     },
     "execution_count": 1,
     "metadata": {},
     "output_type": "execute_result"
    }
   ],
   "source": [
    "0<10>100"
   ]
  },
  {
   "cell_type": "code",
   "execution_count": 12,
   "metadata": {},
   "outputs": [
    {
     "name": "stdout",
     "output_type": "stream",
     "text": [
      ">>80\n",
      "B\n"
     ]
    }
   ],
   "source": [
    "num=eval(input('>>'))\n",
    "if num>=90:\n",
    "    print('A')\n",
    "elif 80<=num<90:\n",
    "    print('B')\n",
    "else :\n",
    "    print('C')"
   ]
  },
  {
   "cell_type": "markdown",
   "metadata": {},
   "source": [
    "## Markdown \n",
    "- https://github.com/younghz/Markdown"
   ]
  },
  {
   "cell_type": "markdown",
   "metadata": {},
   "source": [
    "## EP:\n",
    "- <img src=\"../Photo/34.png\"></img>\n",
    "- 输入一个数字，判断其实奇数还是偶数"
   ]
  },
  {
   "cell_type": "markdown",
   "metadata": {},
   "source": [
    "## 产生随机数字\n",
    "- 函数random.randint(a,b) 可以用来产生一个a和b之间且包括a和b的随机整数"
   ]
  },
  {
   "cell_type": "code",
   "execution_count": 23,
   "metadata": {},
   "outputs": [
    {
     "name": "stdout",
     "output_type": "stream",
     "text": [
      "2\n",
      ">>5\n",
      "太大了\n",
      ">>2\n",
      "Success\n"
     ]
    }
   ],
   "source": [
    "import random\n",
    "a=random.randint(1,5)\n",
    "print(a)\n",
    "while True:\n",
    "    num=eval(input('>>'))\n",
    "    if num == a:\n",
    "        print('Success')\n",
    "        break\n",
    "    elif num>a:\n",
    "        print('太大了')\n",
    "    elif num<a:\n",
    "        print('太小了')"
   ]
  },
  {
   "cell_type": "markdown",
   "metadata": {},
   "source": [
    "##  其他random方法\n",
    "- random.random 返回0.0到1.0之间前闭后开区间的随机浮点\n",
    "- random.randrange(a,b) 前闭后开"
   ]
  },
  {
   "cell_type": "markdown",
   "metadata": {},
   "source": [
    "## EP：\n",
    "- 产生两个随机整数number1和number2，然后显示给用户，使用户输入数字的和，并判定其是否正确\n",
    "- 进阶:写一个随机序号点名程序"
   ]
  },
  {
   "cell_type": "code",
   "execution_count": null,
   "metadata": {},
   "outputs": [],
   "source": [
    "import random\n",
    "a=random.randint(1,5)\n",
    "b=random.randint(2,6)\n",
    "print(a,b)\n",
    "# num=eval(input('>>'))\n",
    "# if num==a+b:\n",
    "#     print('Success')\n",
    "# else :\n",
    "#     print('失败')\n",
    "num=a+b\n",
    "while 1:\n",
    "    input('>>')\n",
    "    if input == num:\n",
    "        print('Success')\n",
    "        break\n",
    "    else :\n",
    "         print('失败')"
   ]
  },
  {
   "cell_type": "markdown",
   "metadata": {},
   "source": [
    "## if语句\n",
    "- 如果条件正确就执行一个单向if语句，亦即当条件为真的时候才执行if内部的语句\n",
    "- Python有很多选择语句:\n",
    "> - 单向if \n",
    "  - 双向if-else\n",
    "  - 嵌套if\n",
    "  - 多向if-elif-else\n",
    "  \n",
    "- 注意：当语句含有子语句的时候，那么一定至少要有一个缩进，也就是说如果有儿子存在，那么一定要缩进\n",
    "- 切记不可tab键和space混用，单用tab 或者 space\n",
    "- 当你输出的结果是无论if是否为真时都需要显示时，语句应该与if对齐"
   ]
  },
  {
   "cell_type": "code",
   "execution_count": 14,
   "metadata": {},
   "outputs": [
    {
     "name": "stdout",
     "output_type": "stream",
     "text": [
      ">>25\n",
      ">>帅\n",
      ">>高\n",
      ">>是\n",
      "见\n"
     ]
    }
   ],
   "source": [
    "a=eval(input('>>'))\n",
    "if a<=30:\n",
    "    b=input('>>')\n",
    "    if b!='丑':\n",
    "        c=input('>>')\n",
    "        if c=='高':\n",
    "            d=input('>>')\n",
    "            if d=='是':\n",
    "                print('见')\n",
    "            else:\n",
    "                print('不见')\n",
    "        else :\n",
    "            print('不见')\n",
    "    else :\n",
    "        print('不见')\n",
    "else:\n",
    "    print('too old')"
   ]
  },
  {
   "cell_type": "markdown",
   "metadata": {},
   "source": [
    "## EP：\n",
    "- 用户输入一个数字，判断其实奇数还是偶数\n",
    "- 进阶：可以查看下4.5实例研究猜生日"
   ]
  },
  {
   "cell_type": "markdown",
   "metadata": {},
   "source": [
    "## 双向if-else 语句\n",
    "- 如果条件为真，那么走if内部语句，否则走else内部语句"
   ]
  },
  {
   "cell_type": "markdown",
   "metadata": {},
   "source": [
    "## EP：\n",
    "- 产生两个随机整数number1和number2，然后显示给用户，使用户输入数字，并判定其是否正确,如果正确打印“you‘re correct”，否则打印正确错误"
   ]
  },
  {
   "cell_type": "markdown",
   "metadata": {},
   "source": [
    "## 嵌套if 和多向if-elif-else\n",
    "![](../Photo/35.png)"
   ]
  },
  {
   "cell_type": "markdown",
   "metadata": {},
   "source": [
    "## EP：\n",
    "- 提示用户输入一个年份，然后显示表示这一年的动物\n",
    "![](../Photo/36.png)\n",
    "- 计算身体质量指数的程序\n",
    "- BMI = 以千克为单位的体重除以以米为单位的身高\n",
    "![](../Photo/37.png)"
   ]
  },
  {
   "cell_type": "code",
   "execution_count": 7,
   "metadata": {},
   "outputs": [
    {
     "name": "stdout",
     "output_type": "stream",
     "text": [
      ">>1991\n",
      "羊\n"
     ]
    }
   ],
   "source": [
    "a=eval(input('>>'))\n",
    "num=a%12\n",
    "if num==0:\n",
    "    print('猴')\n",
    "elif num == 1:\n",
    "    print('鸡')\n",
    "elif num == 2:\n",
    "    print('狗')\n",
    "elif num == 3:\n",
    "    print('猪')\n",
    "elif num== 4:\n",
    "    print('鼠')\n",
    "elif num== 5:\n",
    "    print('牛')\n",
    "elif num== 6:\n",
    "    print('虎')\n",
    "elif num== 7:\n",
    "    print('兔')\n",
    "elif num== 8:\n",
    "    print('龙')\n",
    "elif num== 9:\n",
    "    print('蛇')\n",
    "elif num== 10:\n",
    "    print('马')\n",
    "else:\n",
    "    print('羊')"
   ]
  },
  {
   "cell_type": "code",
   "execution_count": 12,
   "metadata": {},
   "outputs": [
    {
     "name": "stdout",
     "output_type": "stream",
     "text": [
      ">>60,1.84\n",
      "17.72211720226843\n",
      "超轻\n"
     ]
    }
   ],
   "source": [
    "w,h=eval(input('>>'))\n",
    "bmi=w/(h*h)\n",
    "print(bmi)\n",
    "if bmi<18.5:\n",
    "    print('超轻')\n",
    "elif 18.5<=bmi<25.0:\n",
    "    print('标准')\n",
    "elif 25.0<=bmi<30.0:\n",
    "    print('超重')\n",
    "else :\n",
    "    print('痴肥')"
   ]
  },
  {
   "cell_type": "markdown",
   "metadata": {},
   "source": [
    "## 逻辑运算符\n",
    "![](../Photo/38.png)"
   ]
  },
  {
   "cell_type": "markdown",
   "metadata": {},
   "source": [
    "![](../Photo/39.png)\n",
    "![](../Photo/40.png)"
   ]
  },
  {
   "cell_type": "code",
   "execution_count": 15,
   "metadata": {},
   "outputs": [
    {
     "data": {
      "text/plain": [
       "False"
      ]
     },
     "execution_count": 15,
     "metadata": {},
     "output_type": "execute_result"
    }
   ],
   "source": [
    "a=[1,2,3,4]\n",
    "1 not in a"
   ]
  },
  {
   "cell_type": "markdown",
   "metadata": {},
   "source": [
    "## EP：\n",
    "- 判定闰年：一个年份如果能被4整除但不能被100整除，或者能被400整除，那么这个年份就是闰年\n",
    "- 提示用户输入一个年份，并返回是否是闰年\n",
    "- 提示用户输入一个数字，判断其是否为水仙花数"
   ]
  },
  {
   "cell_type": "code",
   "execution_count": 24,
   "metadata": {},
   "outputs": [
    {
     "name": "stdout",
     "output_type": "stream",
     "text": [
      ">>400\n",
      "非闰年\n"
     ]
    }
   ],
   "source": [
    "year=eval(input('>>'))\n",
    "a=year%4==0\n",
    "b=year%100!=0\n",
    "c=year%400==0\n",
    "if (a or c) and b :\n",
    "    print('闰年')\n",
    "else :\n",
    "    print('非闰年')"
   ]
  },
  {
   "cell_type": "code",
   "execution_count": 20,
   "metadata": {},
   "outputs": [
    {
     "name": "stdout",
     "output_type": "stream",
     "text": [
      ">>154\n",
      "结束\n"
     ]
    }
   ],
   "source": [
    "n=eval(input('>>'))\n",
    "a1=n//100\n",
    "a2=n//10%10\n",
    "a3=n%10\n",
    "s=a1**3+a2**3+a3**3\n",
    "if s == n:\n",
    "    print('是水仙花数')\n",
    "else :\n",
    "    print('结束')"
   ]
  },
  {
   "cell_type": "markdown",
   "metadata": {},
   "source": [
    "## 实例研究：彩票\n",
    "![](../Photo/41.png)"
   ]
  },
  {
   "cell_type": "code",
   "execution_count": 33,
   "metadata": {},
   "outputs": [
    {
     "name": "stdout",
     "output_type": "stream",
     "text": [
      "8 4\n",
      ">>48\n",
      "二等奖\n"
     ]
    }
   ],
   "source": [
    "import random\n",
    "a1=random.randint(0,9)\n",
    "a2=random.randint(0,9)\n",
    "print(a1,a2)\n",
    "a=str(a1)+str(a2)\n",
    "num=input('>>')\n",
    "if num==a:\n",
    "    print('一等奖')\n",
    "elif (num[0]==a[1] and (num[1]== a[0])):\n",
    "    print('二等奖')\n",
    "elif ((num[0]==a[0]) or (num[1]==a[0]) or (num[0]==a[1]) or (num[1]==a[1])):\n",
    "    print('三等奖')\n",
    "else :\n",
    "    ('未中奖')"
   ]
  },
  {
   "cell_type": "markdown",
   "metadata": {},
   "source": [
    "# Homework\n",
    "- 1\n",
    "![](../Photo/42.png)"
   ]
  },
  {
   "cell_type": "code",
   "execution_count": 46,
   "metadata": {},
   "outputs": [
    {
     "name": "stdout",
     "output_type": "stream",
     "text": [
      ">>1,3,1\n",
      "-0.3819660112501051 -2.618033988749895\n"
     ]
    }
   ],
   "source": [
    "import math\n",
    "a,b,c=eval(input('>>'))\n",
    "pan=b**2-4*a*c\n",
    "r1=((-b)+math.sqrt(pan))/(2*a)\n",
    "r2=((-b)-math.sqrt(pan))/(2*a)\n",
    "if pan>0:\n",
    "    print(r1,r2)\n",
    "elif pan==0:\n",
    "    print(r1)\n",
    "else :\n",
    "    print('The equation has no real roots')"
   ]
  },
  {
   "cell_type": "markdown",
   "metadata": {},
   "source": [
    "- 2\n",
    "![](../Photo/43.png)"
   ]
  },
  {
   "cell_type": "code",
   "execution_count": 6,
   "metadata": {},
   "outputs": [
    {
     "name": "stdout",
     "output_type": "stream",
     "text": [
      "93 42\n",
      ">>12\n",
      "False\n"
     ]
    }
   ],
   "source": [
    "import random\n",
    "a1=random.randint(0,99)\n",
    "a2=random.randint(0,99)\n",
    "print(a1,a2)\n",
    "num=eval(input('>>'))\n",
    "number=a1+a2\n",
    "if num == number:\n",
    "    print('True')\n",
    "else :\n",
    "    print('False')"
   ]
  },
  {
   "cell_type": "markdown",
   "metadata": {},
   "source": [
    "- 3\n",
    "![](../Photo/44.png)"
   ]
  },
  {
   "cell_type": "code",
   "execution_count": 31,
   "metadata": {},
   "outputs": [
    {
     "name": "stdout",
     "output_type": "stream",
     "text": [
      "今天是哪一天（星期天是0，星期一是1,。。。，星期六是6）：1\n",
      "今天之后到未来某天的天数：3\n",
      "今天是星期一并且3天之后是星期四\n"
     ]
    }
   ],
   "source": [
    "day = eval(input('今天是哪一天（星期天是0，星期一是1,。。。，星期六是6）：'))\n",
    "days = eval(input('今天之后到未来某天的天数：'))\n",
    "n = day + days\n",
    "if day==0:\n",
    "    a='星期日'\n",
    "elif day==1:\n",
    "    a='星期一'\n",
    "elif day==2:\n",
    "    a='星期二'\n",
    "elif day==3:\n",
    "    a='星期三'\n",
    "elif day==4:\n",
    "    a='星期四'\n",
    "elif day==5:\n",
    "    a='星期五'\n",
    "elif day==6:\n",
    "    a='星期六'\n",
    "if n%7 ==0:\n",
    "    print('今天是'+str(a)+'并且'+str(days)+'天之后是星期天')\n",
    "elif n%7 ==1:\n",
    "    print('今天是'+str(a)+'并且'+str(days)+'天之后是星期一')\n",
    "elif n%7 ==2:\n",
    "    print('今天是'+str(a)+'并且'+str(days)+'天之后是星期二')\n",
    "elif n%7 ==3:\n",
    "    print('今天是'+str(a)+'并且'+str(days)+'天之后是星期三')\n",
    "elif n%7 ==4:\n",
    "    print('今天是'+str(a)+'并且'+str(days)+'天之后是星期四')\n",
    "elif n%7 ==5:\n",
    "    print('今天是'+str(a)+'并且'+str(days)+'天之后是星期五')\n",
    "elif n%7 ==6:\n",
    "    print('今天是'+str(a)+'并且'+str(days)+'天之后是星期六')"
   ]
  },
  {
   "cell_type": "markdown",
   "metadata": {},
   "source": [
    "- 4\n",
    "![](../Photo/45.png)"
   ]
  },
  {
   "cell_type": "code",
   "execution_count": 33,
   "metadata": {},
   "outputs": [
    {
     "name": "stdout",
     "output_type": "stream",
     "text": [
      "输入三个整数：2,1,3\n",
      "1 2 3\n"
     ]
    }
   ],
   "source": [
    "a,b,c = eval(input('输入三个整数：'))\n",
    "if a>=b and b>=c:\n",
    "    print(c,b,a)\n",
    "elif a>=b and b<=c and a>=c:\n",
    "    print(b,c,a)\n",
    "elif b>=a and a>=c :\n",
    "    print(c,a,b)\n",
    "elif b>=a and a<=c and b>=c:\n",
    "    print(a,c,b)\n",
    "elif c>=b and b>=a:\n",
    "    print(a,b,c)\n",
    "elif c>=b and b<=a and c>=a:\n",
    "    print(b,a,c)"
   ]
  },
  {
   "cell_type": "markdown",
   "metadata": {},
   "source": [
    "- 5\n",
    "![](../Photo/46.png)"
   ]
  },
  {
   "cell_type": "code",
   "execution_count": null,
   "metadata": {},
   "outputs": [],
   "source": [
    "a1,a2=eval(input('输入第一种重量和价钱：'))\n",
    "b1,b2=eval(input('输入第一种重量和价钱：'))\n",
    "num1=a2/a1\n",
    "num2=b2/b1\n",
    "if num1>num2:\n",
    "    print('购买第二种更加合适')\n",
    "else :\n",
    "    print('购买第一种更合适')"
   ]
  },
  {
   "cell_type": "markdown",
   "metadata": {},
   "source": [
    "- 6\n",
    "![](../Photo/47.png)"
   ]
  },
  {
   "cell_type": "code",
   "execution_count": null,
   "metadata": {},
   "outputs": [],
   "source": [
    "m,year=eval(input('输入月份和年'))\n",
    "a=year%4==0\n",
    "b=year%100!=0\n",
    "c=year%400==0\n",
    "r=[1,3,5,7,8,10,12]\n",
    "if (a or c) and b and m==2:\n",
    "    print(str(year)+'年'+str(m)+'月有29天')\n",
    "elif ((m==1) or (m==3) or (m==5) or (m==7) or (m==8) or (m==10) or (m==12)):\n",
    "    print(str(year)+'年'+str(m)+'月有31天')\n",
    "elif ((m==4) or (m==6) or (m==9) or (m==11)):\n",
    "    print(str(year)+'年'+str(m)+'月有30天')\n",
    "else :\n",
    "    print(str(year)+'年'+str(m)+'月有28天')"
   ]
  },
  {
   "cell_type": "markdown",
   "metadata": {},
   "source": [
    "- 7\n",
    "![](../Photo/48.png)"
   ]
  },
  {
   "cell_type": "code",
   "execution_count": 30,
   "metadata": {},
   "outputs": [
    {
     "name": "stdout",
     "output_type": "stream",
     "text": [
      "0\n",
      ">>1\n",
      "错误\n"
     ]
    }
   ],
   "source": [
    "import random\n",
    "a=random.randint(0,1)\n",
    "print(a)\n",
    "num=eval(input('>>'))\n",
    "if a==num:\n",
    "    print('正确')\n",
    "else :\n",
    "    print('错误')"
   ]
  },
  {
   "cell_type": "markdown",
   "metadata": {},
   "source": [
    "- 8\n",
    "![](../Photo/49.png)"
   ]
  },
  {
   "cell_type": "code",
   "execution_count": null,
   "metadata": {},
   "outputs": [],
   "source": [
    "a=eval(input('输入1，2或0：'))\n",
    "import random\n",
    "d=random.randint(0,3) \n",
    "if d==a:\n",
    "    print('平局')\n",
    "elif a==0 and d==1:\n",
    "     print('你输了')\n",
    "elif a==0 and d==2:\n",
    "     print('你赢了')\n",
    "elif a==1 and d==0:\n",
    "     print('你赢了')\n",
    "elif a==1 and d==2:\n",
    "     print('你输了')\n",
    "elif a==2 and d==1:\n",
    "     print('你赢了')\n",
    "elif a==2 and d==0:\n",
    "     print('你输了')"
   ]
  },
  {
   "cell_type": "markdown",
   "metadata": {},
   "source": [
    "- 9\n",
    "![](../Photo/50.png)"
   ]
  },
  {
   "cell_type": "code",
   "execution_count": null,
   "metadata": {},
   "outputs": [],
   "source": [
    "y = eval(input('请输入年份：'))\n",
    "m = eval(input('请输入月份：'))\n",
    "q = eval(input('请输入天数：'))\n",
    "j = y//100//1\n",
    "k = y%100\n",
    "if m == 1:\n",
    "    m = 13\n",
    "elif m == 2:\n",
    "    m = 14\n",
    "h = (q + (26*(m+1))/10//1+k+k/4//1+j/4//1+5*j)%7\n",
    "print(round(h))"
   ]
  },
  {
   "cell_type": "markdown",
   "metadata": {},
   "source": [
    "- 10\n",
    "![](../Photo/51.png)"
   ]
  },
  {
   "cell_type": "code",
   "execution_count": null,
   "metadata": {},
   "outputs": [],
   "source": [
    "import random\n",
    "size=['Ace',2,3,4,5,6,7,8,9,10,'Jack','Queen','King']\n",
    "A=random.randint(0,len(size)-1)\n",
    "color=['Diamond','Heart','Spade','Club']\n",
    "B=random.randint(0,len(color)-1)\n",
    "print('The card you picked is the ' + str(size[A]) + ' of ' + str(color[B]))"
   ]
  },
  {
   "cell_type": "markdown",
   "metadata": {},
   "source": [
    "- 11\n",
    "![](../Photo/52.png)"
   ]
  },
  {
   "cell_type": "code",
   "execution_count": null,
   "metadata": {},
   "outputs": [],
   "source": [
    "x = input('Enter a three-digit integer：')\n",
    "if x[0] == x[2] :\n",
    "    print(str(x)+'is a palindrome')\n",
    "else:\n",
    "    print(str(x)+'is not a palindrome')"
   ]
  },
  {
   "cell_type": "markdown",
   "metadata": {},
   "source": [
    "- 12\n",
    "![](../Photo/53.png)"
   ]
  },
  {
   "cell_type": "code",
   "execution_count": null,
   "metadata": {},
   "outputs": [],
   "source": [
    "lenght1,lenght2,lenght3, =eval(input('Enter three adges:'))\n",
    "perimeter = lenght1 + lenght2 + lenght3\n",
    "if   lenght1 + lenght2 > lenght3 and   lenght1 + lenght3 > lenght2 and lenght2 + lenght3 > lenght1:\n",
    "    print('The perimeter is',perimeter)\n",
    "else:\n",
    "    print('The perimeter invalid')"
   ]
  }
 ],
 "metadata": {
  "kernelspec": {
   "display_name": "Python 3",
   "language": "python",
   "name": "python3"
  },
  "language_info": {
   "codemirror_mode": {
    "name": "ipython",
    "version": 3
   },
   "file_extension": ".py",
   "mimetype": "text/x-python",
   "name": "python",
   "nbconvert_exporter": "python",
   "pygments_lexer": "ipython3",
   "version": "3.6.4"
  }
 },
 "nbformat": 4,
 "nbformat_minor": 2
}
